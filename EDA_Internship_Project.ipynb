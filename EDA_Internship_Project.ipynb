{
 "cells": [
  {
   "cell_type": "code",
   "execution_count": null,
   "id": "8af9afe1",
   "metadata": {},
   "outputs": [],
   "source": [
    "# Importing necessary libraries\n",
    "import pandas as pd\n",
    "import numpy as np\n",
    "import matplotlib.pyplot as plt\n",
    "import seaborn as sns"
   ]
  },
  {
   "cell_type": "code",
   "execution_count": null,
   "id": "9eaaf403",
   "metadata": {},
   "outputs": [],
   "source": [
    "# Load the datasets\n",
    "file_path1 = '/mnt/data/googleplaystore.csv'  # Google Play Store dataset\n",
    "file_path2 = '/mnt/data/googleplaystore_user_reviews.csv'  # User reviews dataset\n",
    "\n",
    "df_apps = pd.read_csv(file_path1)\n",
    "df_reviews = pd.read_csv(file_path2)"
   ]
  },
  {
   "cell_type": "code",
   "execution_count": null,
   "id": "47b826bd",
   "metadata": {},
   "outputs": [],
   "source": [
    "# Display basic information about the datasets\n",
    "print(\"Dataset Info - Google Play Store:\")\n",
    "df_apps.info()\n",
    "print(\"\\nFirst 5 rows of Google Play Store dataset:\")\n",
    "display(df_apps.head())\n",
    "\n",
    "print(\"\\nDataset Info - User Reviews:\")\n",
    "df_reviews.info()\n",
    "print(\"\\nFirst 5 rows of User Reviews dataset:\")\n",
    "display(df_reviews.head())"
   ]
  },
  {
   "cell_type": "code",
   "execution_count": null,
   "id": "b15f263e",
   "metadata": {},
   "outputs": [],
   "source": [
    "# Check for missing values\n",
    "print(\"\\nMissing Values in Google Play Store dataset:\")\n",
    "print(df_apps.isnull().sum())\n",
    "\n",
    "print(\"\\nMissing Values in User Reviews dataset:\")\n",
    "print(df_reviews.isnull().sum())"
   ]
  },
  {
   "cell_type": "code",
   "execution_count": null,
   "id": "02d4b44f",
   "metadata": {},
   "outputs": [],
   "source": [
    "# Summary statistics\n",
    "print(\"\\nSummary Statistics - Google Play Store:\")\n",
    "display(df_apps.describe(include='all'))\n",
    "\n",
    "print(\"\\nSummary Statistics - User Reviews:\")\n",
    "display(df_reviews.describe(include='all'))"
   ]
  },
  {
   "cell_type": "code",
   "execution_count": null,
   "id": "9d8166df",
   "metadata": {},
   "outputs": [],
   "source": [
    "# Data types of columns\n",
    "print(\"\\nColumn Data Types - Google Play Store:\")\n",
    "print(df_apps.dtypes)\n",
    "\n",
    "print(\"\\nColumn Data Types - User Reviews:\")\n",
    "print(df_reviews.dtypes)"
   ]
  },
  {
   "cell_type": "code",
   "execution_count": null,
   "id": "1eb78640",
   "metadata": {},
   "outputs": [],
   "source": [
    "# Checking for duplicate rows\n",
    "duplicates_apps = df_apps.duplicated().sum()\n",
    "print(f\"\\nNumber of duplicate rows in Google Play Store dataset: {duplicates_apps}\")\n",
    "\n",
    "duplicates_reviews = df_reviews.duplicated().sum()\n",
    "print(f\"Number of duplicate rows in User Reviews dataset: {duplicates_reviews}\")"
   ]
  },
  {
   "cell_type": "code",
   "execution_count": null,
   "id": "4ba618a7",
   "metadata": {},
   "outputs": [],
   "source": [
    "# Visualizations\n",
    "sns.set_style(\"whitegrid\")"
   ]
  },
  {
   "cell_type": "code",
   "execution_count": null,
   "id": "a41df8e2",
   "metadata": {},
   "outputs": [],
   "source": [
    "# Distribution of numerical columns\n",
    "df_apps.hist(figsize=(12, 10), bins=30)\n",
    "plt.suptitle(\"Distribution of Numerical Features - Google Play Store\", fontsize=15)\n",
    "plt.show()"
   ]
  },
  {
   "cell_type": "code",
   "execution_count": null,
   "id": "28373d4b",
   "metadata": {},
   "outputs": [],
   "source": [
    "# Checking correlations between numerical features\n",
    "plt.figure(figsize=(10, 6))\n",
    "sns.heatmap(df_apps.corr(), annot=True, cmap='coolwarm', fmt='.2f')\n",
    "plt.title(\"Feature Correlation Heatmap - Google Play Store\")\n",
    "plt.show()"
   ]
  },
  {
   "cell_type": "code",
   "execution_count": null,
   "id": "ce81be95",
   "metadata": {},
   "outputs": [],
   "source": [
    "# Count plots for categorical variables\n",
    "categorical_cols = df_apps.select_dtypes(include=['object']).columns\n",
    "for col in categorical_cols:\n",
    "    plt.figure(figsize=(10, 4))\n",
    "    sns.countplot(y=df_apps[col], order=df_apps[col].value_counts().index, palette=\"viridis\")\n",
    "    plt.title(f\"Distribution of {col} - Google Play Store\")\n",
    "    plt.show()"
   ]
  },
  {
   "cell_type": "code",
   "execution_count": null,
   "id": "fae44da3",
   "metadata": {},
   "outputs": [],
   "source": [
    "# Box plots to check for outliers in numerical data\n",
    "numeric_cols = df_apps.select_dtypes(include=['number']).columns\n",
    "for col in numeric_cols:\n",
    "    plt.figure(figsize=(8, 4))\n",
    "    sns.boxplot(x=df_apps[col], palette=\"Set2\")\n",
    "    plt.title(f\"Boxplot of {col} - Google Play Store\")\n",
    "    plt.show()"
   ]
  },
  {
   "cell_type": "code",
   "execution_count": null,
   "id": "edd373c6",
   "metadata": {},
   "outputs": [],
   "source": [
    "print(\"\\nEDA Completed Successfully for the Internship Project!\")"
   ]
  }
 ],
 "metadata": {},
 "nbformat": 4,
 "nbformat_minor": 5
}
