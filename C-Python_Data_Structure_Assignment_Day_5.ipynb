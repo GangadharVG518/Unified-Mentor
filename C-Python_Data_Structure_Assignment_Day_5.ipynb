{
  "cells": [
    {
      "cell_type": "markdown",
      "metadata": {
        "id": "jGxqF4aIjNSq"
      },
      "source": [
        "<a id='1'></a><center> <h3 style=\"background-color:orange; color:white\" ><br>Python Data Structures<br></h3>"
      ],
      "id": "jGxqF4aIjNSq"
    },
    {
      "cell_type": "markdown",
      "metadata": {
        "id": "yA4Mw8GEZR8n"
      },
      "source": [
        "# `Types of Data Structures:`\n",
        "* `List` | `Tuple`\n",
        "* `Set` | `Dictionary`"
      ],
      "id": "yA4Mw8GEZR8n"
    },
    {
      "cell_type": "markdown",
      "metadata": {
        "id": "wuB0uWX0ZR8n"
      },
      "source": [
        "|Data Structures type|Mutable|Comments|Indexing|Ordered|Duplicacy|\n",
        "|----|----|----|----|----|----|\n",
        "tuple ()|immutable|immutable version of list| possible|yes |allowed |\n",
        "list []|mutable|-|possible |yes | allowed |\n",
        "set {}|mutable| -|not |no |not |\n",
        "dict {key:value}|mutable|-|possible |no |not  |"
      ],
      "id": "wuB0uWX0ZR8n"
    },
    {
      "cell_type": "markdown",
      "metadata": {
        "id": "zeNtuEstZR8o"
      },
      "source": [
        "💫 `immutable` => `can't be changed` <br>\n",
        "💫 `mutable` => `can be changed`"
      ],
      "id": "zeNtuEstZR8o"
    },
    {
      "cell_type": "code",
      "execution_count": null,
      "metadata": {
        "id": "AL-D0a0JZR8o"
      },
      "outputs": [],
      "source": [],
      "id": "AL-D0a0JZR8o"
    },
    {
      "cell_type": "markdown",
      "metadata": {
        "id": "Tyavi31ZjNSw"
      },
      "source": [
        "## Lists\n",
        "\n"
      ],
      "id": "Tyavi31ZjNSw"
    },
    {
      "cell_type": "markdown",
      "metadata": {
        "id": "tkDQdRdUjNSy"
      },
      "source": [
        "### Create an empty list with the name ‘a’, print the value of a and type(a).\n"
      ],
      "id": "tkDQdRdUjNSy"
    },
    {
      "cell_type": "code",
      "execution_count": 5,
      "metadata": {
        "id": "a6i4yNGvjNSz"
      },
      "outputs": [],
      "source": [
        "# create empty list, name it 'a'\n",
        "a = []"
      ],
      "id": "a6i4yNGvjNSz"
    },
    {
      "cell_type": "code",
      "execution_count": 6,
      "metadata": {
        "id": "M8FMNQEgjNS0",
        "outputId": "6e6bda11-009b-44cf-e60c-907542aa1a46",
        "colab": {
          "base_uri": "https://localhost:8080/"
        }
      },
      "outputs": [
        {
          "output_type": "stream",
          "name": "stdout",
          "text": [
            "[]\n"
          ]
        }
      ],
      "source": [
        "# print the value of a\n",
        "print(a)\n"
      ],
      "id": "M8FMNQEgjNS0"
    },
    {
      "cell_type": "code",
      "execution_count": 7,
      "metadata": {
        "id": "Jfc9sg1vjNS1",
        "outputId": "f57a4a9b-3c7f-4175-ed45-929c60dc2e70",
        "colab": {
          "base_uri": "https://localhost:8080/"
        }
      },
      "outputs": [
        {
          "output_type": "stream",
          "name": "stdout",
          "text": [
            "<class 'list'>\n"
          ]
        }
      ],
      "source": [
        "# print the type of a\n",
        "print(type(a))"
      ],
      "id": "Jfc9sg1vjNS1"
    },
    {
      "cell_type": "markdown",
      "metadata": {
        "id": "UNpN9_w4jNS1"
      },
      "source": [
        "### Create a list , languages = ['R','Python', 'SAS', 'Scala', 42],"
      ],
      "id": "UNpN9_w4jNS1"
    },
    {
      "cell_type": "code",
      "execution_count": 8,
      "metadata": {
        "id": "x-TG-vc5jNS2"
      },
      "outputs": [],
      "source": [
        "# prompt: Create a list , languages = ['R','Python', 'SAS', 'Scala', 42]\n",
        "\n",
        "languages = ['R','Python', 'SAS', 'Scala', 42]\n"
      ],
      "id": "x-TG-vc5jNS2"
    },
    {
      "cell_type": "markdown",
      "metadata": {
        "id": "JDSIK8TbjNS3"
      },
      "source": [
        "Print the number of elements in the list"
      ],
      "id": "JDSIK8TbjNS3"
    },
    {
      "cell_type": "code",
      "execution_count": 9,
      "metadata": {
        "id": "C4lBMaM8jNS3",
        "outputId": "a8f2c54a-209a-45c2-a368-bc67fdd62ca1",
        "colab": {
          "base_uri": "https://localhost:8080/"
        }
      },
      "outputs": [
        {
          "output_type": "stream",
          "name": "stdout",
          "text": [
            "5\n"
          ]
        }
      ],
      "source": [
        "# prompt: Print the number of elements in the list\n",
        "\n",
        "print(len(languages))\n"
      ],
      "id": "C4lBMaM8jNS3"
    },
    {
      "cell_type": "markdown",
      "metadata": {
        "id": "EyzO_pcnjNS3"
      },
      "source": [
        "Using for loop iterate and print all the elements in the list"
      ],
      "id": "EyzO_pcnjNS3"
    },
    {
      "cell_type": "code",
      "execution_count": 10,
      "metadata": {
        "id": "TyM54ydsjNS4",
        "outputId": "9bee1ef8-a3cf-46aa-d44b-95a5ddd20dda",
        "colab": {
          "base_uri": "https://localhost:8080/"
        }
      },
      "outputs": [
        {
          "output_type": "stream",
          "name": "stdout",
          "text": [
            "R\n",
            "Python\n",
            "SAS\n",
            "Scala\n",
            "42\n"
          ]
        }
      ],
      "source": [
        "languages = ['R','Python', 'SAS', 'Scala', 42]\n",
        "\n",
        "for item in languages:\n",
        "  print(item)"
      ],
      "id": "TyM54ydsjNS4"
    },
    {
      "cell_type": "markdown",
      "metadata": {
        "id": "eC1fqz9LjNS4"
      },
      "source": [
        "Select the second item, 'Python' and store it in a new variable named 'temp'"
      ],
      "id": "eC1fqz9LjNS4"
    },
    {
      "cell_type": "code",
      "execution_count": 11,
      "metadata": {
        "id": "KY0KhRlOjNS4"
      },
      "outputs": [],
      "source": [
        "languages = ['R','Python', 'SAS', 'Scala', 42]\n",
        "temp = languages[1]"
      ],
      "id": "KY0KhRlOjNS4"
    },
    {
      "cell_type": "markdown",
      "metadata": {
        "id": "breORMa_jNS4"
      },
      "source": [
        "Print the value of temp and type(temp)"
      ],
      "id": "breORMa_jNS4"
    },
    {
      "cell_type": "code",
      "execution_count": 12,
      "metadata": {
        "id": "MbvX2aIgjNS5",
        "outputId": "027b5014-a55f-480f-d230-d14ef717fa98",
        "colab": {
          "base_uri": "https://localhost:8080/"
        }
      },
      "outputs": [
        {
          "output_type": "stream",
          "name": "stdout",
          "text": [
            "Python\n",
            "<class 'str'>\n"
          ]
        }
      ],
      "source": [
        "print(temp)\n",
        "print(type(temp))"
      ],
      "id": "MbvX2aIgjNS5"
    },
    {
      "cell_type": "markdown",
      "metadata": {
        "id": "I4MrKlAUjNS5"
      },
      "source": [
        "Append the element 'Java' in the list"
      ],
      "id": "I4MrKlAUjNS5"
    },
    {
      "cell_type": "code",
      "execution_count": 13,
      "metadata": {
        "id": "rOtqZY6PjNS6"
      },
      "outputs": [],
      "source": [
        "languages.append('Java')\n"
      ],
      "id": "rOtqZY6PjNS6"
    },
    {
      "cell_type": "markdown",
      "metadata": {
        "id": "ksEn8qvFjNS6"
      },
      "source": [
        "Remove the element 42 from the list and print the list"
      ],
      "id": "ksEn8qvFjNS6"
    },
    {
      "cell_type": "code",
      "execution_count": 14,
      "metadata": {
        "id": "Lxuzfc1bjNS6",
        "outputId": "0f51d8e2-8b1f-406e-9ad7-ad9169d48070",
        "colab": {
          "base_uri": "https://localhost:8080/"
        }
      },
      "outputs": [
        {
          "output_type": "stream",
          "name": "stdout",
          "text": [
            "['R', 'Python', 'SAS', 'Scala', 'Java']\n"
          ]
        }
      ],
      "source": [
        "languages.remove(42)\n",
        "print(languages)"
      ],
      "id": "Lxuzfc1bjNS6"
    },
    {
      "cell_type": "markdown",
      "metadata": {
        "id": "19MjI0w6jNS6"
      },
      "source": [
        "### Create a list, colors = [‘Red’, ‘Blue’, ‘White’]"
      ],
      "id": "19MjI0w6jNS6"
    },
    {
      "cell_type": "code",
      "execution_count": 15,
      "metadata": {
        "id": "Z1lMzdbWjNS7"
      },
      "outputs": [],
      "source": [
        "colors = ['Red', 'Blue', 'White']\n"
      ],
      "id": "Z1lMzdbWjNS7"
    },
    {
      "cell_type": "markdown",
      "metadata": {
        "id": "VAqLj5R3jNS7"
      },
      "source": [
        "Append the element 'Black' to colors"
      ],
      "id": "VAqLj5R3jNS7"
    },
    {
      "cell_type": "code",
      "execution_count": 16,
      "metadata": {
        "id": "gvb5iC7ljNS7"
      },
      "outputs": [],
      "source": [
        "colors.append('Black')\n"
      ],
      "id": "gvb5iC7ljNS7"
    },
    {
      "cell_type": "markdown",
      "metadata": {
        "id": "MFWIzVcvjNS7"
      },
      "source": [
        "Append the color 'Orange' to second position (index=1) and print the list"
      ],
      "id": "MFWIzVcvjNS7"
    },
    {
      "cell_type": "code",
      "execution_count": 17,
      "metadata": {
        "id": "Fb6YZDSNjNS8",
        "colab": {
          "base_uri": "https://localhost:8080/"
        },
        "outputId": "2c2fc0ba-193a-4415-ac10-7e839f44d610"
      },
      "outputs": [
        {
          "output_type": "execute_result",
          "data": {
            "text/plain": [
              "['Red', 'Orange', 'Blue', 'White', 'Black']"
            ]
          },
          "metadata": {},
          "execution_count": 17
        }
      ],
      "source": [
        "colors = ['Red', 'Blue', 'White']\n",
        "colors.append('Black')\n",
        "colors.insert(1, 'Orange')\n",
        "colors\n"
      ],
      "id": "Fb6YZDSNjNS8"
    },
    {
      "cell_type": "markdown",
      "metadata": {
        "id": "8DWB76AOjNS8"
      },
      "source": [
        "Print the list\n"
      ],
      "id": "8DWB76AOjNS8"
    },
    {
      "cell_type": "code",
      "execution_count": 18,
      "metadata": {
        "id": "0ldkGCozjNS8",
        "outputId": "597b9f60-9889-423f-864f-5273549ae215",
        "colab": {
          "base_uri": "https://localhost:8080/"
        }
      },
      "outputs": [
        {
          "output_type": "stream",
          "name": "stdout",
          "text": [
            "[]\n",
            "<class 'list'>\n",
            "5\n",
            "R\n",
            "Python\n",
            "SAS\n",
            "Scala\n",
            "42\n",
            "Python\n",
            "<class 'str'>\n",
            "['R', 'Python', 'SAS', 'Scala', 'Java']\n"
          ]
        },
        {
          "output_type": "execute_result",
          "data": {
            "text/plain": [
              "['Red', 'Orange', 'Blue', 'White', 'Black']"
            ]
          },
          "metadata": {},
          "execution_count": 18
        }
      ],
      "source": [
        "a = []\n",
        "print(a)\n",
        "print(type(a))\n",
        "languages = ['R','Python', 'SAS', 'Scala', 42]\n",
        "print(len(languages))\n",
        "languages = ['R','Python', 'SAS', 'Scala', 42]\n",
        "for item in languages:\n",
        "  print(item)\n",
        "languages = ['R','Python', 'SAS', 'Scala', 42]\n",
        "temp = languages[1]\n",
        "print(temp)\n",
        "print(type(temp))\n",
        "languages.append('Java')\n",
        "languages.remove(42)\n",
        "print(languages)\n",
        "colors = ['Red', 'Blue', 'White']\n",
        "colors.append('Black')\n",
        "colors = ['Red', 'Blue', 'White']\n",
        "colors.append('Black')\n",
        "colors.insert(1, 'Orange')\n",
        "colors\n"
      ],
      "id": "0ldkGCozjNS8"
    },
    {
      "cell_type": "markdown",
      "metadata": {
        "id": "WfFfxvLKjNS8"
      },
      "source": [
        "Create another list, colors2 = [‘Grey’, ‘Sky Blue’]"
      ],
      "id": "WfFfxvLKjNS8"
    },
    {
      "cell_type": "code",
      "execution_count": 19,
      "metadata": {
        "id": "onZEiwdUjNS8"
      },
      "outputs": [],
      "source": [
        "colors2 = ['Grey', 'Sky Blue']\n"
      ],
      "id": "onZEiwdUjNS8"
    },
    {
      "cell_type": "markdown",
      "metadata": {
        "id": "MrNQk6uKjNS8"
      },
      "source": [
        "Add the elements of colors2 to colors using extend function in the list"
      ],
      "id": "MrNQk6uKjNS8"
    },
    {
      "cell_type": "code",
      "execution_count": 20,
      "metadata": {
        "id": "Hr1Eu88OjNS9",
        "colab": {
          "base_uri": "https://localhost:8080/"
        },
        "outputId": "6ba68ef8-4d28-4004-ca02-956aeaf4b1e6"
      },
      "outputs": [
        {
          "output_type": "execute_result",
          "data": {
            "text/plain": [
              "['Red', 'Orange', 'Blue', 'White', 'Black', 'Grey', 'Sky Blue']"
            ]
          },
          "metadata": {},
          "execution_count": 20
        }
      ],
      "source": [
        "colors.extend(colors2)\n",
        "colors\n"
      ],
      "id": "Hr1Eu88OjNS9"
    },
    {
      "cell_type": "markdown",
      "metadata": {
        "id": "u0KDeU20jNS9"
      },
      "source": [
        "Print len of colors and its elements"
      ],
      "id": "u0KDeU20jNS9"
    },
    {
      "cell_type": "code",
      "execution_count": 21,
      "metadata": {
        "id": "bnBmsCg2jNS9",
        "outputId": "004ae882-49aa-4f60-9bd7-32e65a81faaa",
        "colab": {
          "base_uri": "https://localhost:8080/"
        }
      },
      "outputs": [
        {
          "output_type": "stream",
          "name": "stdout",
          "text": [
            "7\n"
          ]
        },
        {
          "output_type": "execute_result",
          "data": {
            "text/plain": [
              "['Red', 'Orange', 'Blue', 'White', 'Black', 'Grey', 'Sky Blue']"
            ]
          },
          "metadata": {},
          "execution_count": 21
        }
      ],
      "source": [
        "colors = ['Red', 'Blue', 'White']\n",
        "colors.append('Black')\n",
        "colors.insert(1, 'Orange')\n",
        "colors2 = ['Grey', 'Sky Blue']\n",
        "colors.extend(colors2)\n",
        "print(len(colors))\n",
        "colors\n"
      ],
      "id": "bnBmsCg2jNS9"
    },
    {
      "cell_type": "markdown",
      "metadata": {
        "id": "vJ7YqokSjNS9"
      },
      "source": [
        "Sort the list and print it."
      ],
      "id": "vJ7YqokSjNS9"
    },
    {
      "cell_type": "code",
      "execution_count": 22,
      "metadata": {
        "id": "X14C-1PtjNS9",
        "outputId": "7be28d69-dbe3-48c8-b5c5-1de40152ba34",
        "colab": {
          "base_uri": "https://localhost:8080/"
        }
      },
      "outputs": [
        {
          "output_type": "execute_result",
          "data": {
            "text/plain": [
              "['Black', 'Blue', 'Grey', 'Orange', 'Red', 'Sky Blue', 'White']"
            ]
          },
          "metadata": {},
          "execution_count": 22
        }
      ],
      "source": [
        "colors.sort()\n",
        "colors\n"
      ],
      "id": "X14C-1PtjNS9"
    },
    {
      "cell_type": "markdown",
      "metadata": {
        "id": "MdN5B9F9jNS-"
      },
      "source": [
        "### Create a string, sent = ‘Coronavirus Caused Lockdowns Around The World.”"
      ],
      "id": "MdN5B9F9jNS-"
    },
    {
      "cell_type": "code",
      "execution_count": 23,
      "metadata": {
        "id": "j4JUR085jNS-",
        "colab": {
          "base_uri": "https://localhost:8080/",
          "height": 88
        },
        "outputId": "b2fe6818-c75d-472b-b501-3382a741d159"
      },
      "outputs": [
        {
          "output_type": "stream",
          "name": "stdout",
          "text": [
            "coronavirus caused lockdowns around the world.\n",
            "CORONAVIRUS CAUSED LOCKDOWNS AROUND THE WORLD.\n",
            "['Coronavirus', 'Caused', 'Lockdowns', 'Around', 'The', 'World.']\n"
          ]
        },
        {
          "output_type": "execute_result",
          "data": {
            "text/plain": [
              "'Coronavirus Caused Lockdowns Around The World.'"
            ],
            "application/vnd.google.colaboratory.intrinsic+json": {
              "type": "string"
            }
          },
          "metadata": {},
          "execution_count": 23
        }
      ],
      "source": [
        "sent = 'Coronavirus Caused Lockdowns Around The World.'\n",
        "\n",
        "sent_lower = sent.lower()\n",
        "print(sent_lower)\n",
        "\n",
        "sent_upper = sent.upper()\n",
        "print(sent_upper)\n",
        "\n",
        "words = sent.split()\n",
        "print(words)\n",
        "\n",
        "joined_string = ' '.join(words)\n",
        "joined_string\n"
      ],
      "id": "j4JUR085jNS-"
    },
    {
      "cell_type": "markdown",
      "metadata": {
        "id": "rcn18drOjNS-"
      },
      "source": [
        "Use split function to convert the string into a list of words and save it in variable words and print the same"
      ],
      "id": "rcn18drOjNS-"
    },
    {
      "cell_type": "code",
      "execution_count": 24,
      "metadata": {
        "id": "fjiKSboajNS-",
        "outputId": "8902b752-024a-4334-b9b8-9c613fc75b63",
        "colab": {
          "base_uri": "https://localhost:8080/"
        }
      },
      "outputs": [
        {
          "output_type": "execute_result",
          "data": {
            "text/plain": [
              "['Coronavirus', 'Caused', 'Lockdowns', 'Around', 'The', 'World.']"
            ]
          },
          "metadata": {},
          "execution_count": 24
        }
      ],
      "source": [
        "sent = 'Coronavirus Caused Lockdowns Around The World.'\n",
        "words = sent.split()\n",
        "words\n"
      ],
      "id": "fjiKSboajNS-"
    },
    {
      "cell_type": "markdown",
      "metadata": {
        "id": "rowxhN26jNS_"
      },
      "source": [
        "Convert each word in the list to lower case and store it in variable words_lower.\n",
        "Print words_lower"
      ],
      "id": "rowxhN26jNS_"
    },
    {
      "cell_type": "code",
      "execution_count": 25,
      "metadata": {
        "id": "LuzAECOVjNS_",
        "outputId": "30bccc51-4871-45ee-c472-0b1ecdff0894",
        "colab": {
          "base_uri": "https://localhost:8080/"
        }
      },
      "outputs": [
        {
          "output_type": "execute_result",
          "data": {
            "text/plain": [
              "['coronavirus', 'caused', 'lockdowns', 'around', 'the', 'world.']"
            ]
          },
          "metadata": {},
          "execution_count": 25
        }
      ],
      "source": [
        "words_lower = [word.lower() for word in words]\n",
        "words_lower\n"
      ],
      "id": "LuzAECOVjNS_"
    },
    {
      "cell_type": "markdown",
      "metadata": {
        "id": "zznwP-l9jNS_"
      },
      "source": [
        "Check whether ‘country’ is in the list"
      ],
      "id": "zznwP-l9jNS_"
    },
    {
      "cell_type": "code",
      "execution_count": 26,
      "metadata": {
        "id": "y-U1felnjNS_",
        "outputId": "34ed8898-0cf3-4611-87f5-57e1cdb9865e",
        "colab": {
          "base_uri": "https://localhost:8080/"
        }
      },
      "outputs": [
        {
          "output_type": "stream",
          "name": "stdout",
          "text": [
            "False\n"
          ]
        }
      ],
      "source": [
        "print('country' in words_lower)\n"
      ],
      "id": "y-U1felnjNS_"
    },
    {
      "cell_type": "markdown",
      "metadata": {
        "id": "AZMvSVKWjNS_"
      },
      "source": [
        "Remove the element ‘the’ from the list and print the list."
      ],
      "id": "AZMvSVKWjNS_"
    },
    {
      "cell_type": "code",
      "execution_count": 27,
      "metadata": {
        "id": "bmDbpYd7jNS_",
        "outputId": "5ef58d69-4245-47ee-d09d-9c2028b06ec0",
        "colab": {
          "base_uri": "https://localhost:8080/"
        }
      },
      "outputs": [
        {
          "output_type": "execute_result",
          "data": {
            "text/plain": [
              "['coronavirus', 'caused', 'lockdowns', 'around', 'world.']"
            ]
          },
          "metadata": {},
          "execution_count": 27
        }
      ],
      "source": [
        "words_lower.remove('the')\n",
        "words_lower\n"
      ],
      "id": "bmDbpYd7jNS_"
    },
    {
      "cell_type": "markdown",
      "metadata": {
        "id": "int3gJc0jNS_"
      },
      "source": [
        "Select the first 4 words from the list words_lower using slicing and store them in a new variable x4"
      ],
      "id": "int3gJc0jNS_"
    },
    {
      "cell_type": "code",
      "execution_count": 28,
      "metadata": {
        "id": "fXOJmYI1jNTA",
        "colab": {
          "base_uri": "https://localhost:8080/"
        },
        "outputId": "8f86d992-2f9c-42c7-89c7-af61468f8c43"
      },
      "outputs": [
        {
          "output_type": "execute_result",
          "data": {
            "text/plain": [
              "['coronavirus', 'caused', 'lockdowns', 'around']"
            ]
          },
          "metadata": {},
          "execution_count": 28
        }
      ],
      "source": [
        "x4 = words_lower[:4]\n",
        "x4"
      ],
      "id": "fXOJmYI1jNTA"
    },
    {
      "cell_type": "code",
      "execution_count": 29,
      "metadata": {
        "id": "2Kb_1V9HjNTA",
        "outputId": "cdd0537b-e77a-41aa-f0b5-fd35112b333c",
        "colab": {
          "base_uri": "https://localhost:8080/"
        }
      },
      "outputs": [
        {
          "output_type": "stream",
          "name": "stdout",
          "text": [
            "['coronavirus', 'caused', 'lockdowns', 'around']\n"
          ]
        }
      ],
      "source": [
        "# print x4\n",
        "print(x4)"
      ],
      "id": "2Kb_1V9HjNTA"
    },
    {
      "cell_type": "markdown",
      "metadata": {
        "id": "3HgP3nUmjNTA"
      },
      "source": [
        "Convert the list of elements to single string using join function and print it"
      ],
      "id": "3HgP3nUmjNTA"
    },
    {
      "cell_type": "code",
      "execution_count": 30,
      "metadata": {
        "id": "hiXO7ekhjNTA",
        "outputId": "a4a08894-d785-4091-d2d6-9a751f227999",
        "colab": {
          "base_uri": "https://localhost:8080/",
          "height": 36
        }
      },
      "outputs": [
        {
          "output_type": "execute_result",
          "data": {
            "text/plain": [
              "'coronavirus caused lockdowns around the world.'"
            ],
            "application/vnd.google.colaboratory.intrinsic+json": {
              "type": "string"
            }
          },
          "metadata": {},
          "execution_count": 30
        }
      ],
      "source": [
        "words_lower = ['coronavirus', 'caused', 'lockdowns', 'around', 'the', 'world.']\n",
        "joined_words = ' '.join(words_lower)\n",
        "joined_words\n"
      ],
      "id": "hiXO7ekhjNTA"
    },
    {
      "cell_type": "markdown",
      "metadata": {
        "id": "tW6We_kvjNTA"
      },
      "source": [
        "## Sets"
      ],
      "id": "tW6We_kvjNTA"
    },
    {
      "cell_type": "markdown",
      "metadata": {
        "id": "02qkte5xjNTA"
      },
      "source": [
        "### Create stud_grades = ['A','A','B','C','C','F']"
      ],
      "id": "02qkte5xjNTA"
    },
    {
      "cell_type": "code",
      "execution_count": null,
      "metadata": {
        "id": "M5P_qZaTjNTB"
      },
      "outputs": [],
      "source": [],
      "id": "M5P_qZaTjNTB"
    },
    {
      "cell_type": "markdown",
      "metadata": {
        "id": "XazCnMcBjNTB"
      },
      "source": [
        "Print the len of stud_grades"
      ],
      "id": "XazCnMcBjNTB"
    },
    {
      "cell_type": "code",
      "execution_count": null,
      "metadata": {
        "id": "gMMJN-V5jNTB"
      },
      "outputs": [],
      "source": [
        "\n",
        "\n"
      ],
      "id": "gMMJN-V5jNTB"
    },
    {
      "cell_type": "markdown",
      "metadata": {
        "id": "ALm7hstGjNTB"
      },
      "source": [
        "Create a new variable, stud_grades_set = set(stud_grades)"
      ],
      "id": "ALm7hstGjNTB"
    },
    {
      "cell_type": "code",
      "execution_count": null,
      "metadata": {
        "id": "goCMVgJ-ZR8y"
      },
      "outputs": [],
      "source": [],
      "id": "goCMVgJ-ZR8y"
    },
    {
      "cell_type": "markdown",
      "metadata": {
        "id": "JJESkQiJjNTB"
      },
      "source": [
        "Print stud_grades_set."
      ],
      "id": "JJESkQiJjNTB"
    },
    {
      "cell_type": "code",
      "execution_count": null,
      "metadata": {
        "id": "Q-daiiLPjNTB"
      },
      "outputs": [],
      "source": [
        "\n",
        "\n"
      ],
      "id": "Q-daiiLPjNTB"
    },
    {
      "cell_type": "markdown",
      "metadata": {
        "id": "hNeCPwPOjNTC"
      },
      "source": [
        "print the type of stud_grades and stud_grades_set and print their corresponding elements. Try to understand the difference between them."
      ],
      "id": "hNeCPwPOjNTC"
    },
    {
      "cell_type": "code",
      "execution_count": null,
      "metadata": {
        "id": "g7cntC0ojNTC"
      },
      "outputs": [],
      "source": [
        "\n",
        "\n",
        "\n"
      ],
      "id": "g7cntC0ojNTC"
    },
    {
      "cell_type": "markdown",
      "metadata": {
        "id": "WjzzJX8yjNTC"
      },
      "source": [
        "Add a new element ‘G’ to stud_grades_set"
      ],
      "id": "WjzzJX8yjNTC"
    },
    {
      "cell_type": "code",
      "execution_count": null,
      "metadata": {
        "id": "y80DVAlRjNTC"
      },
      "outputs": [],
      "source": [
        "\n"
      ],
      "id": "y80DVAlRjNTC"
    },
    {
      "cell_type": "markdown",
      "metadata": {
        "id": "4TO9zhSJjNTC"
      },
      "source": [
        "Add element 'F' to stud_grades_set. and print it."
      ],
      "id": "4TO9zhSJjNTC"
    },
    {
      "cell_type": "code",
      "execution_count": null,
      "metadata": {
        "id": "Bh4tc1zCjNTC"
      },
      "outputs": [],
      "source": [
        "\n",
        "\n"
      ],
      "id": "Bh4tc1zCjNTC"
    },
    {
      "cell_type": "markdown",
      "metadata": {
        "id": "FSgM3DD5jNTD"
      },
      "source": [
        "!!Did you notice? set doesn't add an element if it's already present in it, unlike lists."
      ],
      "id": "FSgM3DD5jNTD"
    },
    {
      "cell_type": "markdown",
      "metadata": {
        "id": "tqz1GBM5jNTD"
      },
      "source": [
        "Remove ‘F’ from stud_grades_set"
      ],
      "id": "tqz1GBM5jNTD"
    },
    {
      "cell_type": "code",
      "execution_count": null,
      "metadata": {
        "id": "zOLBDdk0jNTD"
      },
      "outputs": [],
      "source": [
        "\n",
        "\n"
      ],
      "id": "zOLBDdk0jNTD"
    },
    {
      "cell_type": "markdown",
      "metadata": {
        "id": "wxMXywoRjNTD"
      },
      "source": [
        "Print the elements and the length of stud_grades_set"
      ],
      "id": "wxMXywoRjNTD"
    },
    {
      "cell_type": "code",
      "execution_count": null,
      "metadata": {
        "id": "lS582g27jNTD"
      },
      "outputs": [],
      "source": [
        "\n",
        "\n"
      ],
      "id": "lS582g27jNTD"
    },
    {
      "cell_type": "markdown",
      "metadata": {
        "id": "FctCYkNBjNTD"
      },
      "source": [
        "### Create colors = [‘red’,’blue’,’orange’], and fruits = [‘orange’,’grapes’,’apples’]"
      ],
      "id": "FctCYkNBjNTD"
    },
    {
      "cell_type": "code",
      "execution_count": null,
      "metadata": {
        "id": "i72xnFbgZR80"
      },
      "outputs": [],
      "source": [],
      "id": "i72xnFbgZR80"
    },
    {
      "cell_type": "markdown",
      "metadata": {
        "id": "kfIRtvphjNTE"
      },
      "source": [
        "Print color and fruits"
      ],
      "id": "kfIRtvphjNTE"
    },
    {
      "cell_type": "code",
      "execution_count": null,
      "metadata": {
        "id": "q-gavK0-jNTE"
      },
      "outputs": [],
      "source": [
        "\n"
      ],
      "id": "q-gavK0-jNTE"
    },
    {
      "cell_type": "markdown",
      "metadata": {
        "id": "uMOTrWwSjNTE"
      },
      "source": [
        "Create colors_set, and fruits_set. (using set() ) and print them"
      ],
      "id": "uMOTrWwSjNTE"
    },
    {
      "cell_type": "code",
      "execution_count": null,
      "metadata": {
        "id": "iNUb4a_oZR80"
      },
      "outputs": [],
      "source": [],
      "id": "iNUb4a_oZR80"
    },
    {
      "cell_type": "markdown",
      "metadata": {
        "id": "tW9fj0R1jNTE"
      },
      "source": [
        "Find the union of both the sets."
      ],
      "id": "tW9fj0R1jNTE"
    },
    {
      "cell_type": "code",
      "execution_count": null,
      "metadata": {
        "id": "oyskI_CTjNTE"
      },
      "outputs": [],
      "source": [
        "\n",
        "\n"
      ],
      "id": "oyskI_CTjNTE"
    },
    {
      "cell_type": "markdown",
      "metadata": {
        "id": "3yXYgYBLjNTF"
      },
      "source": [
        "Find the intersection of both the sets"
      ],
      "id": "3yXYgYBLjNTF"
    },
    {
      "cell_type": "code",
      "execution_count": null,
      "metadata": {
        "id": "3AzYqu5sjNTF"
      },
      "outputs": [],
      "source": [
        "\n",
        "\n"
      ],
      "id": "3AzYqu5sjNTF"
    },
    {
      "cell_type": "markdown",
      "metadata": {
        "id": "PuhlSjH_jNTF"
      },
      "source": [
        "Find the elements which are Fruits but not colors (using set.difference() )"
      ],
      "id": "PuhlSjH_jNTF"
    },
    {
      "cell_type": "code",
      "execution_count": null,
      "metadata": {
        "id": "gBaxHXrfjNTF"
      },
      "outputs": [],
      "source": [
        "\n",
        "\n"
      ],
      "id": "gBaxHXrfjNTF"
    },
    {
      "cell_type": "code",
      "execution_count": null,
      "metadata": {
        "id": "f7yxuVyxZR81"
      },
      "outputs": [],
      "source": [],
      "id": "f7yxuVyxZR81"
    },
    {
      "cell_type": "markdown",
      "metadata": {
        "id": "hLZeBta3jNTF"
      },
      "source": [
        "## TUPLES"
      ],
      "id": "hLZeBta3jNTF"
    },
    {
      "cell_type": "markdown",
      "metadata": {
        "id": "Nerhdg66jNTF"
      },
      "source": [
        "### Create temp = [17, ’Virat’, 50.0]"
      ],
      "id": "Nerhdg66jNTF"
    },
    {
      "cell_type": "code",
      "execution_count": 31,
      "metadata": {
        "id": "NP8bQFSSZR82"
      },
      "outputs": [],
      "source": [
        "temp = [17, 'Virat', 50.0]\n"
      ],
      "id": "NP8bQFSSZR82"
    },
    {
      "cell_type": "markdown",
      "metadata": {
        "id": "C0IuMJFijNTG"
      },
      "source": [
        "Iterate through temp and print all the items in temp"
      ],
      "id": "C0IuMJFijNTG"
    },
    {
      "cell_type": "code",
      "execution_count": 33,
      "metadata": {
        "id": "CSKY_cgHjNTG",
        "outputId": "b6a0be63-1d33-412a-8586-3dc1b13ec429",
        "colab": {
          "base_uri": "https://localhost:8080/"
        }
      },
      "outputs": [
        {
          "output_type": "stream",
          "name": "stdout",
          "text": [
            "17\n",
            "Virat\n",
            "50.0\n"
          ]
        }
      ],
      "source": [
        "for item in temp:\n",
        "    print(item)"
      ],
      "id": "CSKY_cgHjNTG"
    },
    {
      "cell_type": "markdown",
      "metadata": {
        "id": "gI0kBGQ1jNTG"
      },
      "source": [
        "replace first element with 11 in temp"
      ],
      "id": "gI0kBGQ1jNTG"
    },
    {
      "cell_type": "code",
      "execution_count": 34,
      "metadata": {
        "id": "p6JCtyOBjNTG",
        "colab": {
          "base_uri": "https://localhost:8080/"
        },
        "outputId": "88442c27-0e71-4320-d542-7651ed703f83"
      },
      "outputs": [
        {
          "output_type": "execute_result",
          "data": {
            "text/plain": [
              "[11, 'Virat', 50.0]"
            ]
          },
          "metadata": {},
          "execution_count": 34
        }
      ],
      "source": [
        "temp[0] = 11\n",
        "temp\n"
      ],
      "id": "p6JCtyOBjNTG"
    },
    {
      "cell_type": "markdown",
      "metadata": {
        "id": "JV3b34AdjNTG"
      },
      "source": [
        "Set temp1 = tuple(temp)"
      ],
      "id": "JV3b34AdjNTG"
    },
    {
      "cell_type": "code",
      "execution_count": 35,
      "metadata": {
        "colab": {
          "base_uri": "https://localhost:8080/"
        },
        "id": "rwLbyHvcZR83",
        "outputId": "a2788a69-e8cd-45df-8b80-e242d55832ab"
      },
      "outputs": [
        {
          "output_type": "execute_result",
          "data": {
            "text/plain": [
              "[11, 'Virat', 50.0]"
            ]
          },
          "metadata": {},
          "execution_count": 35
        }
      ],
      "source": [
        "temp[0] = 11\n",
        "temp\n"
      ],
      "id": "rwLbyHvcZR83"
    },
    {
      "cell_type": "markdown",
      "metadata": {
        "id": "Z9LJWgBkjNTG"
      },
      "source": [
        "Iterate through temp1 and print all the items in temp1."
      ],
      "id": "Z9LJWgBkjNTG"
    },
    {
      "cell_type": "code",
      "execution_count": 37,
      "metadata": {
        "id": "t0v-FZsNjNTH",
        "outputId": "fdb688de-5ed6-44f4-eac6-57b512c93c9a",
        "colab": {
          "base_uri": "https://localhost:8080/"
        }
      },
      "outputs": [
        {
          "output_type": "stream",
          "name": "stdout",
          "text": [
            "11\n",
            "Virat\n",
            "50.0\n"
          ]
        }
      ],
      "source": [
        "temp1 = tuple(temp)\n",
        "for item in temp1:\n",
        "    print(item) # Indented this line by 4 spaces"
      ],
      "id": "t0v-FZsNjNTH"
    },
    {
      "cell_type": "markdown",
      "metadata": {
        "id": "A4FXMQDfjNTH"
      },
      "source": [
        "replace first element with 17 in temp1"
      ],
      "id": "A4FXMQDfjNTH"
    },
    {
      "cell_type": "code",
      "execution_count": 38,
      "metadata": {
        "id": "eioDSdW8jNTH",
        "outputId": "fc86dd77-aab7-42b7-84a2-c639b67713d6",
        "colab": {
          "base_uri": "https://localhost:8080/"
        }
      },
      "outputs": [
        {
          "output_type": "execute_result",
          "data": {
            "text/plain": [
              "(17, 'Virat', 50.0)"
            ]
          },
          "metadata": {},
          "execution_count": 38
        }
      ],
      "source": [
        "temp1 = (17,) + temp1[1:]\n",
        "temp1\n"
      ],
      "id": "eioDSdW8jNTH"
    },
    {
      "cell_type": "markdown",
      "metadata": {
        "id": "IuGIObFZjNTH"
      },
      "source": [
        "<b>Oops!! You got an error. Hey Don't worry! Its because Once a tuple is created, you cannot change its values unlike list.</b>"
      ],
      "id": "IuGIObFZjNTH"
    },
    {
      "cell_type": "markdown",
      "metadata": {
        "id": "ExB_cM1ZjNTH"
      },
      "source": [
        "### Create city = (\"Bangalore\", 28.9949521, 72)"
      ],
      "id": "ExB_cM1ZjNTH"
    },
    {
      "cell_type": "code",
      "execution_count": 39,
      "metadata": {
        "id": "fWz52DjjjNTH"
      },
      "outputs": [],
      "source": [
        "\n",
        "city = (\"Bangalore\", 28.9949521, 72)\n"
      ],
      "id": "fWz52DjjjNTH"
    },
    {
      "cell_type": "markdown",
      "metadata": {
        "id": "v4ipyqXsjNTH"
      },
      "source": [
        "Print first element of city"
      ],
      "id": "v4ipyqXsjNTH"
    },
    {
      "cell_type": "code",
      "execution_count": 40,
      "metadata": {
        "id": "KJHMuFk1jNTI",
        "outputId": "352757a1-731e-4f86-f5ef-e02529f26bbe",
        "colab": {
          "base_uri": "https://localhost:8080/",
          "height": 36
        }
      },
      "outputs": [
        {
          "output_type": "execute_result",
          "data": {
            "text/plain": [
              "'Bangalore'"
            ],
            "application/vnd.google.colaboratory.intrinsic+json": {
              "type": "string"
            }
          },
          "metadata": {},
          "execution_count": 40
        }
      ],
      "source": [
        "city[0]\n"
      ],
      "id": "KJHMuFk1jNTI"
    },
    {
      "cell_type": "markdown",
      "metadata": {
        "id": "N5FoHg4ujNTI"
      },
      "source": [
        "Create city2 = (‘Chennai’, 30.01, 74)"
      ],
      "id": "N5FoHg4ujNTI"
    },
    {
      "cell_type": "code",
      "execution_count": 41,
      "metadata": {
        "id": "fYuGqbDEjNTI"
      },
      "outputs": [],
      "source": [
        "city2 = ('Chennai', 30.01, 74)\n"
      ],
      "id": "fYuGqbDEjNTI"
    },
    {
      "cell_type": "markdown",
      "metadata": {
        "id": "0gz-HACUjNTI"
      },
      "source": [
        "Create cities which consist of city and city2"
      ],
      "id": "0gz-HACUjNTI"
    },
    {
      "cell_type": "code",
      "execution_count": 42,
      "metadata": {
        "id": "5dTN1LQPjNTI",
        "colab": {
          "base_uri": "https://localhost:8080/"
        },
        "outputId": "0f5b8db9-3b81-4d93-8320-16bb76197c39"
      },
      "outputs": [
        {
          "output_type": "execute_result",
          "data": {
            "text/plain": [
              "(('Bangalore', 28.9949521, 72), ('Chennai', 30.01, 74))"
            ]
          },
          "metadata": {},
          "execution_count": 42
        }
      ],
      "source": [
        "cities = (city, city2)\n",
        "cities\n"
      ],
      "id": "5dTN1LQPjNTI"
    },
    {
      "cell_type": "markdown",
      "metadata": {
        "id": "He-teRi2jNTI"
      },
      "source": [
        "Print cities"
      ],
      "id": "He-teRi2jNTI"
    },
    {
      "cell_type": "code",
      "execution_count": 43,
      "metadata": {
        "id": "ISySNfxGjNTI",
        "outputId": "013b7be8-5e40-4b7b-d0af-1ff819519e23",
        "colab": {
          "base_uri": "https://localhost:8080/"
        }
      },
      "outputs": [
        {
          "output_type": "execute_result",
          "data": {
            "text/plain": [
              "(('Bangalore', 28.9949521, 72), ('Chennai', 30.01, 74))"
            ]
          },
          "metadata": {},
          "execution_count": 43
        }
      ],
      "source": [
        "city = (\"Bangalore\", 28.9949521, 72)\n",
        "city2 = ('Chennai', 30.01, 74)\n",
        "cities = (city, city2)\n",
        "cities\n"
      ],
      "id": "ISySNfxGjNTI"
    },
    {
      "cell_type": "markdown",
      "metadata": {
        "id": "brFx6-rtjNTJ"
      },
      "source": [
        "Print type of first element in cities"
      ],
      "id": "brFx6-rtjNTJ"
    },
    {
      "cell_type": "code",
      "execution_count": 44,
      "metadata": {
        "id": "CmIifGybjNTJ",
        "outputId": "c80d4c16-3d98-4118-ab2a-f230176401c0",
        "colab": {
          "base_uri": "https://localhost:8080/"
        }
      },
      "outputs": [
        {
          "output_type": "stream",
          "name": "stdout",
          "text": [
            "<class 'tuple'>\n"
          ]
        }
      ],
      "source": [
        "print(type(cities[0]))\n"
      ],
      "id": "CmIifGybjNTJ"
    },
    {
      "cell_type": "markdown",
      "metadata": {
        "id": "jtk8J_yHjNTJ"
      },
      "source": [
        "print the type of cities\n"
      ],
      "id": "jtk8J_yHjNTJ"
    },
    {
      "cell_type": "code",
      "execution_count": 45,
      "metadata": {
        "id": "y9rdG29XjNTJ",
        "outputId": "ca2be280-62bf-40ca-f26c-c40ff88be796",
        "colab": {
          "base_uri": "https://localhost:8080/"
        }
      },
      "outputs": [
        {
          "output_type": "stream",
          "name": "stdout",
          "text": [
            "<class 'tuple'>\n"
          ]
        }
      ],
      "source": [
        "city = (\"Bangalore\", 28.9949521, 72)\n",
        "city2 = ('Chennai', 30.01, 74)\n",
        "cities = (city, city2)\n",
        "print(type(cities))\n"
      ],
      "id": "y9rdG29XjNTJ"
    },
    {
      "cell_type": "markdown",
      "metadata": {
        "id": "uXHSadWqjNTJ"
      },
      "source": [
        "Hey that implies you made a nested tuples!!"
      ],
      "id": "uXHSadWqjNTJ"
    },
    {
      "cell_type": "markdown",
      "metadata": {
        "id": "zViY-S_djNTJ"
      },
      "source": [
        "## DICTIONARY"
      ],
      "id": "zViY-S_djNTJ"
    },
    {
      "cell_type": "markdown",
      "metadata": {
        "id": "4NjUxRaZjNTK"
      },
      "source": [
        "### Create a dictionary d = {\"actor\":\"amir\",\"animal\":\"cat\",\"earth\":2,\"list\":[23,32,12]}"
      ],
      "id": "4NjUxRaZjNTK"
    },
    {
      "cell_type": "code",
      "execution_count": 46,
      "metadata": {
        "id": "UCtEFPI4jNTK",
        "colab": {
          "base_uri": "https://localhost:8080/"
        },
        "outputId": "d5fdadf5-e64d-46aa-99f9-2da57ae34d22"
      },
      "outputs": [
        {
          "output_type": "execute_result",
          "data": {
            "text/plain": [
              "{'actor': 'amir', 'animal': 'cat', 'earth': 2, 'list': [23, 32, 12]}"
            ]
          },
          "metadata": {},
          "execution_count": 46
        }
      ],
      "source": [
        "d = {\"actor\":\"amir\",\"animal\":\"cat\",\"earth\":2,\"list\":[23,32,12]}\n",
        "d\n"
      ],
      "id": "UCtEFPI4jNTK"
    },
    {
      "cell_type": "markdown",
      "metadata": {
        "id": "OamenDk8jNTK"
      },
      "source": [
        "Print the value of d[0]"
      ],
      "id": "OamenDk8jNTK"
    },
    {
      "cell_type": "code",
      "execution_count": 47,
      "metadata": {
        "id": "gion3awcjNTK",
        "outputId": "7fd7335f-dfc7-48b0-b915-cdc6c734072b",
        "colab": {
          "base_uri": "https://localhost:8080/"
        }
      },
      "outputs": [
        {
          "output_type": "stream",
          "name": "stdout",
          "text": [
            "amir\n"
          ]
        }
      ],
      "source": [
        "print(d[\"actor\"])\n"
      ],
      "id": "gion3awcjNTK"
    },
    {
      "cell_type": "markdown",
      "metadata": {
        "id": "XYtrrUigjNTK"
      },
      "source": [
        "<b>Oops!! again an error. again a fun fact. Dictionary return the value for key if key is in the dictionary, else throws KeyError\n",
        "and we don't have key 0 here :( </b>"
      ],
      "id": "XYtrrUigjNTK"
    },
    {
      "cell_type": "markdown",
      "metadata": {
        "id": "62VXYnw1jNTK"
      },
      "source": [
        "Store the value of d[‘actor’] to a new variable actor."
      ],
      "id": "62VXYnw1jNTK"
    },
    {
      "cell_type": "code",
      "execution_count": 48,
      "metadata": {
        "id": "kkBfNz81jNTK"
      },
      "outputs": [],
      "source": [
        "d = {\"actor\":\"amir\",\"animal\":\"cat\",\"earth\":2,\"list\":[23,32,12]}\n",
        "actor = d['actor']\n"
      ],
      "id": "kkBfNz81jNTK"
    },
    {
      "cell_type": "markdown",
      "metadata": {
        "id": "uFfuF569jNTL"
      },
      "source": [
        "Print the type of actor"
      ],
      "id": "uFfuF569jNTL"
    },
    {
      "cell_type": "code",
      "execution_count": 49,
      "metadata": {
        "id": "bKbFXBxyjNTL",
        "outputId": "fab2b4c3-6609-4bb6-fe28-00b1212a435e",
        "colab": {
          "base_uri": "https://localhost:8080/"
        }
      },
      "outputs": [
        {
          "output_type": "stream",
          "name": "stdout",
          "text": [
            "<class 'str'>\n"
          ]
        }
      ],
      "source": [
        "d = {\"actor\":\"amir\",\"animal\":\"cat\",\"earth\":2,\"list\":[23,32,12]}\n",
        "actor = d['actor']\n",
        "\n",
        "print(type(actor))\n"
      ],
      "id": "bKbFXBxyjNTL"
    },
    {
      "cell_type": "markdown",
      "metadata": {
        "id": "y549qN04jNTL"
      },
      "source": [
        "Store the value of d[‘list’] in new variable List."
      ],
      "id": "y549qN04jNTL"
    },
    {
      "cell_type": "code",
      "execution_count": 50,
      "metadata": {
        "id": "I7GyOK8DjNTL"
      },
      "outputs": [],
      "source": [
        "List = d['list']\n"
      ],
      "id": "I7GyOK8DjNTL"
    },
    {
      "cell_type": "markdown",
      "metadata": {
        "id": "Ul1YMiuNjNTL"
      },
      "source": [
        "Print the type of List."
      ],
      "id": "Ul1YMiuNjNTL"
    },
    {
      "cell_type": "code",
      "execution_count": 51,
      "metadata": {
        "id": "V0VdG9y_jNTL",
        "outputId": "edb170f2-b3c6-427e-f2e5-fee9869044c3",
        "colab": {
          "base_uri": "https://localhost:8080/"
        }
      },
      "outputs": [
        {
          "output_type": "stream",
          "name": "stdout",
          "text": [
            "<class 'list'>\n"
          ]
        }
      ],
      "source": [
        "print(type(List))\n"
      ],
      "id": "V0VdG9y_jNTL"
    },
    {
      "cell_type": "markdown",
      "metadata": {
        "id": "A0CEMABhjNTL"
      },
      "source": [
        "Create d1 = { ‘singer’ : ‘Kr$na’ , ‘album’: ‘Still here’, ‘genre’ : ‘hip-hop’}"
      ],
      "id": "A0CEMABhjNTL"
    },
    {
      "cell_type": "code",
      "execution_count": 53,
      "metadata": {
        "id": "FCGCw5FEjNTL"
      },
      "outputs": [],
      "source": [
        "d1 = { 'singer' : 'Kr$na' , 'album': 'Still here', 'genre' : 'hip-hop'}\n"
      ],
      "id": "FCGCw5FEjNTL"
    },
    {
      "cell_type": "markdown",
      "metadata": {
        "id": "ybGIILrLjNTM"
      },
      "source": [
        "Merge d1 into d."
      ],
      "id": "ybGIILrLjNTM"
    },
    {
      "cell_type": "code",
      "execution_count": 54,
      "metadata": {
        "id": "UmDbbQJPjNTM"
      },
      "outputs": [],
      "source": [
        "d.update(d1)\n"
      ],
      "id": "UmDbbQJPjNTM"
    },
    {
      "cell_type": "markdown",
      "metadata": {
        "id": "jhAPX45ZjNTM"
      },
      "source": [
        "print d"
      ],
      "id": "jhAPX45ZjNTM"
    },
    {
      "cell_type": "code",
      "execution_count": 55,
      "metadata": {
        "id": "785S26ryjNTM",
        "outputId": "1f55c51b-2a29-41ed-f477-f27e7e536f1c",
        "colab": {
          "base_uri": "https://localhost:8080/"
        }
      },
      "outputs": [
        {
          "output_type": "execute_result",
          "data": {
            "text/plain": [
              "{'actor': 'amir',\n",
              " 'animal': 'cat',\n",
              " 'earth': 2,\n",
              " 'list': [23, 32, 12],\n",
              " 'singer': 'Kr$na',\n",
              " 'album': 'Still here',\n",
              " 'genre': 'hip-hop'}"
            ]
          },
          "metadata": {},
          "execution_count": 55
        }
      ],
      "source": [
        "d = {\"actor\":\"amir\",\"animal\":\"cat\",\"earth\":2,\"list\":[23,32,12]}\n",
        "d.update({'singer' : 'Kr$na' , 'album': 'Still here', 'genre' : 'hip-hop'})\n",
        "d\n"
      ],
      "id": "785S26ryjNTM"
    },
    {
      "cell_type": "markdown",
      "metadata": {
        "id": "9E852mY2jNTM"
      },
      "source": [
        "Print all the keys in d"
      ],
      "id": "9E852mY2jNTM"
    },
    {
      "cell_type": "code",
      "execution_count": 63,
      "metadata": {
        "id": "7K843OrLjNTM",
        "outputId": "6af5cbe4-e5ba-43f2-99fb-5dc1b7221809",
        "colab": {
          "base_uri": "https://localhost:8080/"
        }
      },
      "outputs": [
        {
          "output_type": "stream",
          "name": "stdout",
          "text": [
            "dict_keys(['actor', 'animal', 'earth', 'list', 'singer', 'album', 'genre'])\n"
          ]
        }
      ],
      "source": [
        "print(d.keys())\n"
      ],
      "id": "7K843OrLjNTM"
    },
    {
      "cell_type": "markdown",
      "metadata": {
        "id": "fiuzxbGkjNTN"
      },
      "source": [
        "Print all the values in d"
      ],
      "id": "fiuzxbGkjNTN"
    },
    {
      "cell_type": "code",
      "execution_count": 64,
      "metadata": {
        "id": "Pyhh6r0pjNTN",
        "outputId": "f9bc8123-5b34-4d59-8c56-f662547ca068",
        "colab": {
          "base_uri": "https://localhost:8080/"
        }
      },
      "outputs": [
        {
          "output_type": "stream",
          "name": "stdout",
          "text": [
            "amir\n",
            "cat\n",
            "2\n",
            "[23, 32, 12]\n",
            "Kr$na\n",
            "Still here\n",
            "hip-hop\n"
          ]
        }
      ],
      "source": [
        "d = {\"actor\":\"amir\",\"animal\":\"cat\",\"earth\":2,\"list\":[23,32,12]}\n",
        "d.update({'singer' : 'Kr$na' , 'album': 'Still here', 'genre' : 'hip-hop'})\n",
        "\n",
        "for value in d.values():\n",
        "    print(value)"
      ],
      "id": "Pyhh6r0pjNTN"
    },
    {
      "cell_type": "markdown",
      "metadata": {
        "id": "XSoe8GWmjNTN"
      },
      "source": [
        "Iterate over d, and print each key, value pair as this - (actor ----> amir)"
      ],
      "id": "XSoe8GWmjNTN"
    },
    {
      "cell_type": "code",
      "execution_count": 65,
      "metadata": {
        "id": "O0iW9kiqjNTO",
        "outputId": "8dcfae0d-4ea5-4cda-d161-190043f7d0e7",
        "colab": {
          "base_uri": "https://localhost:8080/"
        }
      },
      "outputs": [
        {
          "output_type": "stream",
          "name": "stdout",
          "text": [
            "(actor ----> amir)\n",
            "(animal ----> cat)\n",
            "(earth ----> 2)\n",
            "(list ----> [23, 32, 12])\n",
            "(singer ----> Kr$na)\n",
            "(album ----> Still here)\n",
            "(genre ----> hip-hop)\n"
          ]
        }
      ],
      "source": [
        "d = {\"actor\":\"amir\",\"animal\":\"cat\",\"earth\":2,\"list\":[23,32,12]}\n",
        "d.update({'singer' : 'Kr$na' , 'album': 'Still here', 'genre' : 'hip-hop'})\n",
        "\n",
        "for key, value in d.items():\n",
        "  print(f\"({key} ----> {value})\")\n"
      ],
      "id": "O0iW9kiqjNTO"
    },
    {
      "cell_type": "markdown",
      "metadata": {
        "id": "Hhzm-EIsjNTO"
      },
      "source": [
        "count the number of occurences of charachters in string named \"sent\" using dictionary and print the same.\n"
      ],
      "id": "Hhzm-EIsjNTO"
    },
    {
      "cell_type": "code",
      "execution_count": 66,
      "metadata": {
        "id": "IvRlvUAljNTP",
        "outputId": "c7343029-d04d-4484-cf02-a7dc069e5b9c",
        "colab": {
          "base_uri": "https://localhost:8080/"
        }
      },
      "outputs": [
        {
          "output_type": "execute_result",
          "data": {
            "text/plain": [
              "{'C': 2,\n",
              " 'o': 6,\n",
              " 'r': 4,\n",
              " 'n': 3,\n",
              " 'a': 2,\n",
              " 'v': 1,\n",
              " 'i': 1,\n",
              " 'u': 3,\n",
              " 's': 3,\n",
              " ' ': 5,\n",
              " 'e': 2,\n",
              " 'd': 4,\n",
              " 'L': 1,\n",
              " 'c': 1,\n",
              " 'k': 1,\n",
              " 'w': 1,\n",
              " 'A': 1,\n",
              " 'T': 1,\n",
              " 'h': 1,\n",
              " 'W': 1,\n",
              " 'l': 1,\n",
              " '.': 1}"
            ]
          },
          "metadata": {},
          "execution_count": 66
        }
      ],
      "source": [
        "sent = 'Coronavirus Caused Lockdowns Around The World.'\n",
        "char_counts = {}\n",
        "for char in sent:\n",
        "    char_counts[char] = char_counts.get(char, 0) + 1\n",
        "char_counts\n"
      ],
      "id": "IvRlvUAljNTP"
    },
    {
      "cell_type": "code",
      "execution_count": null,
      "metadata": {
        "id": "ebNwyxUujNTP"
      },
      "outputs": [],
      "source": [],
      "id": "ebNwyxUujNTP"
    }
  ],
  "metadata": {
    "colab": {
      "collapsed_sections": [
        "tW6We_kvjNTA"
      ],
      "provenance": []
    },
    "kernelspec": {
      "display_name": "Python 3",
      "language": "python",
      "name": "python3"
    },
    "language_info": {
      "codemirror_mode": {
        "name": "ipython",
        "version": 3
      },
      "file_extension": ".py",
      "mimetype": "text/x-python",
      "name": "python",
      "nbconvert_exporter": "python",
      "pygments_lexer": "ipython3",
      "version": "3.7.4"
    }
  },
  "nbformat": 4,
  "nbformat_minor": 5
}